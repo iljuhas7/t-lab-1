{
 "cells": [
  {
   "cell_type": "markdown",
   "metadata": {},
   "source": [
    "# Лабораторная работа 3.1"
   ]
  },
  {
   "cell_type": "markdown",
   "metadata": {},
   "source": [
    "## Счастливый билетик\n",
    "\n",
    "![](http://f2.mylove.ru/UNiHT7dRJ4.jpg)\n",
    "\n",
    "Билет считается счастливым, если выполнено следующее условие: сумма первых трёх цифр номера равна сумме последних трёх цифр.\n",
    "\n",
    "**Задание:**\n",
    "\n",
    "1) Определите число `ticket_number` — шестизначный номер билета;\n",
    "\n",
    "2) Напишите код, который по шестизначному номеру `ticket_number` билетика проверяет, является ли он счастливым;\n",
    "\n",
    "3) Если номер счастливый, выведите строку `Yes`, иначе — `No`.\n",
    "\n",
    "---\n",
    "\n",
    "**Пример 1:**\n",
    "\n",
    "*Input:* 123456\n",
    "\n",
    "*Output:* No\n",
    "\n",
    "\n",
    "**Пример 2:**\n",
    "\n",
    "*Input:* 123042\n",
    "\n",
    "*Output:* Yes"
   ]
  },
  {
   "cell_type": "code",
   "execution_count": null,
   "metadata": {
    "collapsed": true
   },
   "outputs": [],
   "source": [
    "ticket_number = # any 6-digit number"
   ]
  },
  {
   "cell_type": "code",
   "execution_count": 1,
   "metadata": {},
   "outputs": [],
   "source": [
    "def ticket_find(ticket):\n",
    "    ticket = str(ticket)\n",
    "    LT = int(ticket[0]) + int(ticket[1]) + int(ticket[2])\n",
    "    RT = int(ticket[3]) + int(ticket[4]) + int(ticket[5])\n",
    "    if LT == RT:\n",
    "        print(\"Yes\")\n",
    "    else:\n",
    "        print(\"No\")"
   ]
  },
  {
   "cell_type": "markdown",
   "metadata": {},
   "source": [
    "### Тест:"
   ]
  },
  {
   "cell_type": "code",
   "execution_count": 292,
   "metadata": {},
   "outputs": [
    {
     "name": "stdout",
     "output_type": "stream",
     "text": [
      "No\n"
     ]
    }
   ],
   "source": [
    "ticket_find(123456)"
   ]
  },
  {
   "cell_type": "code",
   "execution_count": 120,
   "metadata": {},
   "outputs": [
    {
     "name": "stdout",
     "output_type": "stream",
     "text": [
      "Yes\n"
     ]
    }
   ],
   "source": [
    "ticket_find(123042)"
   ]
  },
  {
   "cell_type": "markdown",
   "metadata": {},
   "source": [
    "## Пароль\n",
    "\n",
    "![](http://forum.ixbt.com/post.cgi?id=attach:77:14138:1341:1)\n",
    "\n",
    "Пусть пароль может содержать только латинские буквы, знаки препинания и цифры.\n",
    "\n",
    "Пароль считается надёжным, если удовлетворяет следующим условиям:\n",
    "- содержит буквы в разных регистрах;\n",
    "- содержит цифры;\n",
    "- содержит не менее `4` уникальных символов;\n",
    "- не содержит ваше имя латинницей, записанное буквами любых регистров (anna, iVan, ...).\n",
    "\n",
    "Иначе пароль считается слабым.\n",
    "\n",
    "**Задание:**\n",
    "\n",
    "1) Определите строку `password` — придуманный вами пароль;\n",
    "\n",
    "2) Напишите код, который по паролю `password` проверяет, является ли он надёжным;\n",
    "\n",
    "3) Если пароль надёжный, выведите строку `strong`, иначе — `weak`.\n",
    "\n",
    "\n",
    "---\n",
    "\n",
    "Пусть имя пользоватея -- Андрей.\n",
    "\n",
    "**Пример 1:**\n",
    "\n",
    "*Input:* Aandrei123\n",
    "\n",
    "*Output:* weak\n",
    "\n",
    "\n",
    "**Пример 2:**\n",
    "\n",
    "*Input:* an12dRei\n",
    "\n",
    "*Output:* strong"
   ]
  },
  {
   "cell_type": "code",
   "execution_count": null,
   "metadata": {
    "collapsed": true
   },
   "outputs": [],
   "source": [
    "password = # any password"
   ]
  },
  {
   "cell_type": "code",
   "execution_count": 15,
   "metadata": {},
   "outputs": [],
   "source": [
    "import string\n",
    "\n",
    "def is_password(pswd) -> bool:\n",
    "    if len(pswd) < 4:\n",
    "        return False\n",
    "    \n",
    "    lm, tm, zm, sm = 0, -1, 0, 0\n",
    "    \n",
    "    for pswd_ch in pswd: \n",
    "        if not(lm <= 2):\n",
    "            return False\n",
    "        \n",
    "        if pswd_ch in string.ascii_lowercase:\n",
    "            zm = 0\n",
    "            \n",
    "        elif pswd_ch in string.ascii_uppercase:\n",
    "            zm = 1\n",
    "        \n",
    "        elif pswd_ch in (string.digits +  string.punctuation + \" \"):\n",
    "            zm = 2\n",
    "        else:\n",
    "            print(\"Error: Only Latin letters, punctuation marks and numbers translation:\\\"\" +  pswd_ch + \"\\\"\")\n",
    "            return False\n",
    "        \n",
    "        if not(tm == zm):\n",
    "            tm = zm\n",
    "            lm = 0\n",
    "        \n",
    "        lm += 1\n",
    "        \n",
    "        if not ((sm & ~(2**zm)) == (2**zm)):\n",
    "            sm = sm | (2**zm)\n",
    "            \n",
    "    if sm == 7:\n",
    "        return True\n",
    "    return False\n",
    "\n",
    "def is_pr_password(pswd):\n",
    "    print(\"strong\" if is_password(pswd) else \"weak\")"
   ]
  },
  {
   "cell_type": "markdown",
   "metadata": {},
   "source": [
    "### Тест:"
   ]
  },
  {
   "cell_type": "code",
   "execution_count": 8,
   "metadata": {},
   "outputs": [
    {
     "name": "stdout",
     "output_type": "stream",
     "text": [
      "weak\n"
     ]
    }
   ],
   "source": [
    "is_pr_password(\"Aandrei123\")"
   ]
  },
  {
   "cell_type": "code",
   "execution_count": 319,
   "metadata": {},
   "outputs": [
    {
     "name": "stdout",
     "output_type": "stream",
     "text": [
      "strong\n"
     ]
    }
   ],
   "source": [
    "is_pr_password(\"an12dRei\")"
   ]
  },
  {
   "cell_type": "code",
   "execution_count": 320,
   "metadata": {},
   "outputs": [
    {
     "name": "stdout",
     "output_type": "stream",
     "text": [
      "weak\n"
     ]
    }
   ],
   "source": [
    "is_pr_password(\"Ilia_1\")"
   ]
  },
  {
   "cell_type": "code",
   "execution_count": 346,
   "metadata": {},
   "outputs": [
    {
     "name": "stdout",
     "output_type": "stream",
     "text": [
      "strong\n"
     ]
    }
   ],
   "source": [
    "is_pr_password(\"_Il1ia_\")"
   ]
  },
  {
   "cell_type": "code",
   "execution_count": 18,
   "metadata": {},
   "outputs": [
    {
     "name": "stdout",
     "output_type": "stream",
     "text": [
      "Error: Only Latin letters, punctuation marks and numbers translation:\"√\"\n",
      "weak\n"
     ]
    }
   ],
   "source": [
    "is_pr_password(\"t5g√52·3f\")"
   ]
  },
  {
   "cell_type": "markdown",
   "metadata": {},
   "source": [
    "## Числа Фибоначчи\n",
    "Как известно, [числа Фибоначчи](https://ru.wikipedia.org/wiki/%D0%A7%D0%B8%D1%81%D0%BB%D0%B0_%D0%A4%D0%B8%D0%B1%D0%BE%D0%BD%D0%B0%D1%87%D1%87%D0%B8) — это последовательность чисел, каждое из которых равно сумме двух предыдущих (первые два числа равны $1$):\n",
    "$$\n",
    "    1, 1, 2, 3, 5, 8, 13, \\ldots\n",
    "$$\n",
    "\n",
    "**Задание:**\n",
    "\n",
    "1) Определите число `amount` — количество чисел Фибоначчи, которые надо вывести;\n",
    "\n",
    "2) Напишите код, который выводит первые `amount` чисел Фибоначчи.\n",
    "\n",
    "---\n",
    "\n",
    "**Пример 1:**\n",
    "\n",
    "*Input:* 3\n",
    "\n",
    "*Output:* 1 1 2\n",
    "\n",
    "\n",
    "**Пример 2:**\n",
    "\n",
    "*Input:* 10\n",
    "\n",
    "*Output:* 1 1 2 3 5 8 13 21 34 55\n"
   ]
  },
  {
   "cell_type": "code",
   "execution_count": null,
   "metadata": {},
   "outputs": [],
   "source": [
    "amount = # any number"
   ]
  },
  {
   "cell_type": "code",
   "execution_count": 16,
   "metadata": {},
   "outputs": [],
   "source": [
    "def fab(n):\n",
    "    n = int(n)\n",
    "    fab1 = fab2 = 1\n",
    "    if(n > 0):\n",
    "        print(fab1, end=\" \")\n",
    "    \n",
    "    if(n > 1):\n",
    "        print(fab2, end=\" \")\n",
    "        \n",
    "    for i in range(2, n):\n",
    "        fab1, fab2 = fab2, fab1 + fab2\n",
    "        print(fab2, end=\" \")"
   ]
  },
  {
   "cell_type": "markdown",
   "metadata": {},
   "source": [
    "### Тест:"
   ]
  },
  {
   "cell_type": "code",
   "execution_count": 17,
   "metadata": {},
   "outputs": [
    {
     "name": "stdout",
     "output_type": "stream",
     "text": [
      "1 1 2 "
     ]
    }
   ],
   "source": [
    "fab(3)"
   ]
  },
  {
   "cell_type": "code",
   "execution_count": 119,
   "metadata": {},
   "outputs": [
    {
     "name": "stdout",
     "output_type": "stream",
     "text": [
      "1 1 2 3 5 8 13 21 34 55 "
     ]
    }
   ],
   "source": [
    "fab(10)"
   ]
  },
  {
   "cell_type": "markdown",
   "metadata": {},
   "source": [
    "## Время исследований\n",
    "\n",
    "![](https://2.bp.blogspot.com/-VOT5x12UqPY/WSh53tQ94HI/AAAAAAAAAMY/-nlcz28_Fj4UzJjbn4bBINKCnzwag1W4QCLcB/s1600/my-pic-widget.jpg)\n",
    "\n",
    "На сайте https://www.kaggle.com/ выберите любой набор данных в формате CSV и проведите для него маленькое исследование: загрузите данные из набора с использованием стандартного модуля `csv`, посмотрите средние значения и стандартные отклонения двух выбранных числовых атрибутов, найдите [методом наименьших квадратов](https://ru.wikipedia.org/wiki/%D0%9C%D0%B5%D1%82%D0%BE%D0%B4_%D0%BD%D0%B0%D0%B8%D0%BC%D0%B5%D0%BD%D1%8C%D1%88%D0%B8%D1%85_%D0%BA%D0%B2%D0%B0%D0%B4%D1%80%D0%B0%D1%82%D0%BE%D0%B2) уравнение линейной зависимости, связывающей один числовой атрибут с другим. Для оценки заданной зависимости найдите [коэффициент парной корреляции](https://ru.wikipedia.org/wiki/%D0%9A%D0%BE%D1%80%D1%80%D0%B5%D0%BB%D1%8F%D1%86%D0%B8%D1%8F), сделайте соответствующие выводы.\n",
    "\n",
    "**Результаты надо обязательно прокомментировать и пояснить!**\n",
    "\n",
    "---\n",
    "\n",
    "**Пример 1:**\n",
    "\n",
    "Пусть таблица `bikes.csv` содержит данные по арендам велосипедов за $2$ года:\n",
    "- `datetime`: дата и время аренды\n",
    "- `season`: время года\n",
    "- `temp`: температура воздуха по Цельсию\n",
    "- `windspeed`: скорость ветра \n",
    "- `registered`: число аренд\n",
    "\n",
    "Одно из направлений исследования могло бы заключаться в проверке зависимости суммарного числа аренд от температуры воздуха."
   ]
  },
  {
   "cell_type": "markdown",
   "metadata": {},
   "source": [
    "*в такой ячейке (режим Markdown) можно писать текст*"
   ]
  },
  {
   "cell_type": "markdown",
   "metadata": {},
   "source": [
    "Здесь должны быть кратко описаны результаты исследования и обнаруженых фактов.\n",
    "\n",
    "...\n",
    "\n",
    "..."
   ]
  },
  {
   "cell_type": "markdown",
   "metadata": {},
   "source": [
    "---\n",
    "### Взял: \n",
    "Название: Рост мужчин и женщин по странам в 2022 г. \n",
    "\n",
    "Cайт: https://www.kaggle.com/datasets/majyhain/height-of-male-and-female-by-country-2022"
   ]
  },
  {
   "cell_type": "markdown",
   "metadata": {},
   "source": [
    "Пусть таблица `Height_of_Male_and_Female_by_Country_2022.csv` содержит данные по рост мужчин и женщин по странам в $2022$ г.:\n",
    "- `countryName` : Название страны\n",
    "- `maleHeightInCm` : Рост мужчины в см\n",
    "- `femaleHeightInCm` : Рост женщины в см\n",
    "- `maleHeightInFt` : Рост мужчины в футах\n",
    "- `femaleHeightInFt` : Рост женщины в футах\n",
    "\n"
   ]
  },
  {
   "cell_type": "code",
   "execution_count": 122,
   "metadata": {},
   "outputs": [],
   "source": [
    "#Библиотека\n",
    "import os.path\n",
    "import math\n",
    "import csv"
   ]
  },
  {
   "cell_type": "code",
   "execution_count": 252,
   "metadata": {},
   "outputs": [],
   "source": [
    "# средние значения\n",
    "def mean(list_numb : list):\n",
    "    return sum(list_numb) / len(list_numb)\n",
    "\n",
    "def mean_exp(list_numb : list):\n",
    "    temp = min(list_numb)\n",
    "    return [i for i, j in enumerate(list_numb) if j == temp]\n",
    "\n",
    "# дисперсия\n",
    "def variance(list_numb : list): \n",
    "    return sum([(x - mean(list_numb)) ** 2 for x in list_numb]) / (len(list_numb) - 1)\n",
    "\n",
    "# стандартные отклонения\n",
    "def stdev(list_numb : list):\n",
    "    return math.sqrt(variance(list_numb))\n",
    "\n",
    "# методом наименьших квадратов\n",
    "def mnk(a : list, b : list):\n",
    "    if len(a) != len(b):\n",
    "        print(\"Error: a != b;\")\n",
    "        return\n",
    "        \n",
    "    ab = [ x * b[k]  for k, x in enumerate(a)]\n",
    "    br = (len(a) * sum(ab) - sum(a) * sum(b)) / (len(a) * sum([ x ** 2  for x in a]) - (sum(a) ** 2))\n",
    "    ar = (sum(b) / len(a)) - br * (sum(a) / len(a))\n",
    "    return [ar, br]\n",
    "\n",
    "def corrcoef(a : list, b : list):\n",
    "    if len(a) != len(b):\n",
    "        print(\"Error: a != b;\")\n",
    "        return\n",
    "\n",
    "    an = [ x - (sum(a)/len(a)) for x in a ]\n",
    "    bn = [ x - (sum(b)/len(a)) for x in b ]\n",
    "    abp = sum([ x ** 2 for x in an]) * sum([ x ** 2 for x in bn ])\n",
    "    abq = math.sqrt(abp)\n",
    "\n",
    "    return sum([ x * bn[k]  for k, x in enumerate(an)]) / abq\n",
    "\n",
    "\n",
    "    "
   ]
  },
  {
   "cell_type": "code",
   "execution_count": 192,
   "metadata": {},
   "outputs": [],
   "source": [
    "# Путь файла\n",
    "file_csv = './Height_of_Male_and_Female_by_Country_2022.csv'\n",
    "\n",
    "# структура роста \n",
    "HeightPeopleCountry = { \n",
    "    \"countryName\" : [], \n",
    "    \"maleHeightInCm\" : [], \n",
    "    \"femaleHeightInCm\" : [], \n",
    "    \"maleHeightInFt\": [], \n",
    "    \"femaleHeightInFt\" : []\n",
    "}"
   ]
  },
  {
   "cell_type": "code",
   "execution_count": 206,
   "metadata": {},
   "outputs": [],
   "source": [
    "# Загружать файла в список структура роста \n",
    "if os.path.isfile(file_csv):\n",
    "    with open(file_csv, newline='') as csvfile:\n",
    "        spamreader = csv.DictReader(csvfile)\n",
    "        for row in spamreader:\n",
    "            HeightPeopleCountry[\"countryName\"].append(row[\"Country Name\"])\n",
    "            HeightPeopleCountry[\"maleHeightInCm\"].append(float(row[\"Male Height in Cm\"]))\n",
    "            HeightPeopleCountry[\"femaleHeightInCm\"].append(float(row[\"Female Height in Cm\"]))\n",
    "            HeightPeopleCountry[\"maleHeightInFt\"].append(float(row[\"Male Height in Ft\"]))\n",
    "            HeightPeopleCountry[\"femaleHeightInFt\"].append(float(row[\"Female Height in Ft\"]))\n",
    "\n",
    "else:\n",
    "    print(\"Не найден файл:\", file_csv)"
   ]
  },
  {
   "cell_type": "code",
   "execution_count": 255,
   "metadata": {},
   "outputs": [
    {
     "name": "stdout",
     "output_type": "stream",
     "text": [
      "Рост мужчины в см.\n",
      "\tМин.: Timor-Leste | 160.13\n",
      "\tМак.: Netherlands | 183.78\n",
      "\tСред.: 173.09\n",
      "\tСред. откл: 4.94\n",
      "\n",
      "Рост мужчины в ft.\n",
      "\tМин.: Timor-Leste | 5.25\n",
      "\tМак.: Netherlands | 6.03\n",
      "\tСред.: 5.68\n",
      "\tСред. откл: 0.16\n",
      "\n",
      "Рост женщины в см.\n",
      "\tМин.: Guatemala | 150.91\n",
      "\tМак.: Netherlands | 170.36\n",
      "\tСред.: 160.94\n",
      "\tСред. откл: 4.07\n",
      "\n",
      "Рост женщины в ft.\n",
      "\tМин.: Guatemala | 4.95\n",
      "\tМак.: Netherlands | 5.59\n",
      "\tСред.: 5.28\n",
      "\tСред. откл: 0.13\n",
      "\n",
      "МНК\n",
      "   Рост мужчины и женщины:\n",
      "\tсм.: 0.76\n",
      "\tft.: 0.76\n",
      "\n",
      "Коэффициент парной корреляции\n",
      "   Рост мужчины и женщины:\n",
      "\tсм.: 0.93\n",
      "\tft.: 0.93\n",
      "\n"
     ]
    }
   ],
   "source": [
    "#Минимальный, максимальный и средние значения\n",
    "xMin = min(HeightPeopleCountry[\"maleHeightInCm\"])\n",
    "xMax = max(HeightPeopleCountry[\"maleHeightInCm\"])\n",
    "MIN = [ key for key, x in enumerate(HeightPeopleCountry[\"maleHeightInCm\"]) if x == xMin ][0]\n",
    "MAX = [ key for key, x in enumerate(HeightPeopleCountry[\"maleHeightInCm\"]) if x == xMax ][0]\n",
    "print(\"Рост мужчины в см.\")\n",
    "print(\"\\tМин.:\", HeightPeopleCountry[\"countryName\"][MIN], \"|\", xMin)\n",
    "print(\"\\tМак.:\", HeightPeopleCountry[\"countryName\"][MAX], \"|\", xMax)\n",
    "print(\"\\tСред.:\", \"%.2f\" % mean(HeightPeopleCountry[\"maleHeightInCm\"]))\n",
    "print(\"\\tСред. откл:\", \"%.2f\" % stdev(HeightPeopleCountry[\"maleHeightInCm\"]))\n",
    "print()\n",
    "\n",
    "xMin = min(HeightPeopleCountry[\"maleHeightInFt\"])\n",
    "xMax = max(HeightPeopleCountry[\"maleHeightInFt\"])\n",
    "MIN = [ key for key, x in enumerate(HeightPeopleCountry[\"maleHeightInFt\"]) if x == xMin ][0]\n",
    "MAX = [ key for key, x in enumerate(HeightPeopleCountry[\"maleHeightInFt\"]) if x == xMax ][0]\n",
    "print(\"Рост мужчины в ft.\")\n",
    "print(\"\\tМин.:\", HeightPeopleCountry[\"countryName\"][MIN], \"|\", xMin)\n",
    "print(\"\\tМак.:\", HeightPeopleCountry[\"countryName\"][MAX], \"|\", xMax)\n",
    "print(\"\\tСред.:\", \"%.2f\" % mean(HeightPeopleCountry[\"maleHeightInFt\"]))\n",
    "print(\"\\tСред. откл:\", \"%.2f\" % stdev(HeightPeopleCountry[\"maleHeightInFt\"]))\n",
    "print()\n",
    "\n",
    "xMin = min(HeightPeopleCountry[\"femaleHeightInCm\"])\n",
    "xMax = max(HeightPeopleCountry[\"femaleHeightInCm\"])\n",
    "MIN = [ key for key, x in enumerate(HeightPeopleCountry[\"femaleHeightInCm\"]) if x == xMin ][0]\n",
    "MAX = [ key for key, x in enumerate(HeightPeopleCountry[\"femaleHeightInCm\"]) if x == xMax ][0]\n",
    "print(\"Рост женщины в см.\")\n",
    "print(\"\\tМин.:\", HeightPeopleCountry[\"countryName\"][MIN], \"|\", xMin)\n",
    "print(\"\\tМак.:\", HeightPeopleCountry[\"countryName\"][MAX], \"|\", xMax)\n",
    "print(\"\\tСред.:\", \"%.2f\" % mean(HeightPeopleCountry[\"femaleHeightInCm\"]))\n",
    "print(\"\\tСред. откл:\", \"%.2f\" % stdev(HeightPeopleCountry[\"femaleHeightInCm\"]))\n",
    "print()\n",
    "\n",
    "xMin = min(HeightPeopleCountry[\"femaleHeightInFt\"])\n",
    "xMax = max(HeightPeopleCountry[\"femaleHeightInFt\"])\n",
    "MIN = [ key for key, x in enumerate(HeightPeopleCountry[\"femaleHeightInFt\"]) if x == xMin ][0]\n",
    "MAX = [ key for key, x in enumerate(HeightPeopleCountry[\"femaleHeightInFt\"]) if x == xMax ][0]\n",
    "print(\"Рост женщины в ft.\")\n",
    "print(\"\\tМин.:\", HeightPeopleCountry[\"countryName\"][MIN], \"|\", xMin)\n",
    "print(\"\\tМак.:\", HeightPeopleCountry[\"countryName\"][MAX], \"|\", xMax)\n",
    "print(\"\\tСред.:\", \"%.2f\" % mean(HeightPeopleCountry[\"femaleHeightInFt\"]))\n",
    "print(\"\\tСред. откл:\", \"%.2f\" % stdev(HeightPeopleCountry[\"femaleHeightInFt\"]))\n",
    "print()\n",
    "\n",
    "# МНК\n",
    "print(\"МНК\")\n",
    "print(\"   Рост мужчины и женщины:\")\n",
    "print(\"\\tсм.:\", \"%.2f\" % mnk(HeightPeopleCountry[\"maleHeightInCm\"], HeightPeopleCountry[\"femaleHeightInCm\"])[1])\n",
    "print(\"\\tft.:\", \"%.2f\" % mnk(HeightPeopleCountry[\"maleHeightInFt\"], HeightPeopleCountry[\"femaleHeightInFt\"])[1])\n",
    "print()\n",
    "\n",
    "\n",
    "# коэффициент парной корреляции\n",
    "print(\"Коэффициент парной корреляции\")\n",
    "print(\"   Рост мужчины и женщины:\")\n",
    "print(\"\\tсм.:\", \"%.2f\" % corrcoef(HeightPeopleCountry[\"maleHeightInCm\"], HeightPeopleCountry[\"femaleHeightInCm\"]))\n",
    "print(\"\\tft.:\", \"%.2f\" % corrcoef(HeightPeopleCountry[\"maleHeightInFt\"], HeightPeopleCountry[\"femaleHeightInFt\"]))\n",
    "print()\n"
   ]
  }
 ],
 "metadata": {
  "anaconda-cloud": {},
  "kernelspec": {
   "display_name": "Python 3",
   "language": "python",
   "name": "python3"
  },
  "language_info": {
   "codemirror_mode": {
    "name": "ipython",
    "version": 3
   },
   "file_extension": ".py",
   "mimetype": "text/x-python",
   "name": "python",
   "nbconvert_exporter": "python",
   "pygments_lexer": "ipython3",
   "version": "3.8.10"
  }
 },
 "nbformat": 4,
 "nbformat_minor": 1
}
